{
  "nbformat": 4,
  "nbformat_minor": 0,
  "metadata": {
    "colab": {
      "provenance": []
    },
    "kernelspec": {
      "name": "python3",
      "display_name": "Python 3"
    },
    "language_info": {
      "name": "python"
    }
  },
  "cells": [
    {
      "cell_type": "markdown",
      "source": [
        "# House Price Prediction"
      ],
      "metadata": {
        "id": "0wVvSujhZNCe"
      }
    },
    {
      "cell_type": "markdown",
      "source": [
        "### Data Cleaning"
      ],
      "metadata": {
        "id": "pHDn5lGtZXV2"
      }
    },
    {
      "cell_type": "markdown",
      "source": [
        "Load the dataset into a Pandas DataFrame, display the first few rows, and generate a statistical summary of its columns."
      ],
      "metadata": {
        "id": "5gnAZPcDZbH3"
      }
    },
    {
      "cell_type": "code",
      "source": [],
      "metadata": {
        "id": "OybdqSTZZVoG"
      },
      "execution_count": null,
      "outputs": []
    },
    {
      "cell_type": "markdown",
      "source": [
        "Sort the columns based on their missing values, then handle them using two different strategies. Create two separate datasets based on these approaches."
      ],
      "metadata": {
        "id": "i-tH2me2ZkDO"
      }
    },
    {
      "cell_type": "code",
      "source": [],
      "metadata": {
        "id": "wyZhioiqZyEm"
      },
      "execution_count": null,
      "outputs": []
    },
    {
      "cell_type": "markdown",
      "source": [
        "### Evaluating Features"
      ],
      "metadata": {
        "id": "Z6WPNEo4aig2"
      }
    },
    {
      "cell_type": "markdown",
      "source": [
        "Use the `groupby` function in Pandas to visualize the distribution of house prices for categorical features. Identify which categorical features provide the most useful information for prediction based on their impact on price variation."
      ],
      "metadata": {
        "id": "JUq57ruyaJi-"
      }
    },
    {
      "cell_type": "markdown",
      "source": [
        "### Model setup"
      ],
      "metadata": {
        "id": "EsL9BzxyaqCW"
      }
    },
    {
      "cell_type": "markdown",
      "source": [
        "In this section, implement **LightGBM, Random Forest, and CatBoost** to predict house prices. Randomly split the dataset into **training and validation sets**, ensuring fair model evaluation. Choose an appropriate **evaluation metric** (e.g., RMSE, MAE, or R²) and report the results on the **validation dataset**."
      ],
      "metadata": {
        "id": "v6DuTFXoatIw"
      }
    },
    {
      "cell_type": "markdown",
      "source": [
        "#### Random forest"
      ],
      "metadata": {
        "id": "SnRdWSWabI4H"
      }
    },
    {
      "cell_type": "code",
      "source": [],
      "metadata": {
        "id": "ycQ_QRfAaskP"
      },
      "execution_count": null,
      "outputs": []
    },
    {
      "cell_type": "markdown",
      "source": [
        "#### lightgbm"
      ],
      "metadata": {
        "id": "NTH3tt9ebKjf"
      }
    },
    {
      "cell_type": "code",
      "source": [],
      "metadata": {
        "id": "9RHIbl7wapdn"
      },
      "execution_count": null,
      "outputs": []
    },
    {
      "cell_type": "markdown",
      "source": [
        "#### Catboost"
      ],
      "metadata": {
        "id": "_Eg8icJmbM0f"
      }
    },
    {
      "cell_type": "code",
      "source": [],
      "metadata": {
        "id": "dKGgSBdzbO3W"
      },
      "execution_count": null,
      "outputs": []
    },
    {
      "cell_type": "markdown",
      "source": [
        "# Window-Based Signed Return Labeling Function"
      ],
      "metadata": {
        "id": "HqZcPek9bPs_"
      }
    },
    {
      "cell_type": "markdown",
      "source": [
        "\n",
        "Develop a Python function that computes and assigns labels to a financial time series based on the cumulative return over a specified time horizon (window) and a predetermined threshold. This function will label events as follows:\n",
        "- **1** if the cumulative return exceeds a positive threshold (indicating an upward trend),\n",
        "- **-1** if the cumulative return falls below a negative threshold (indicating a downward trend), and\n",
        "- **0** otherwise (indicating no significant movement).\n",
        "\n",
        "\n",
        "\n",
        "You are given a time series of stock prices and a series of event timestamps (which indicate the starting points for the labeling process). For each event, you will compute the cumulative return over a specified time horizon $w$(in days) and compare it to a threshold $\\tau$ (expressed in log return terms). Then, you will assign a label according to the following mathematical formulation:\n",
        "\n",
        "1. **Cumulative Return Over Window:**\n",
        "   $$\n",
        "   R_t^{(w)} = \\ln\\left(\\frac{P_{t+w}}{P_t}\\right)\n",
        "  $$\n",
        "   where $P_t$ is the stock price at time $t$.\n",
        "\n",
        "2. **Labeling Rule:**\n",
        "   $$\n",
        "   s_t^{(w, \\tau)} = \\begin{cases}\n",
        "   1 & \\text{if } R_t^{(w)} \\geq \\tau, \\\\\n",
        "   -1 & \\text{if } R_t^{(w)} \\leq -\\tau, \\\\\n",
        "   0 & \\text{if } -\\tau < R_t^{(w)} < \\tau.\n",
        "   \\end{cases}\n",
        "   $$\n",
        "\n",
        "\n",
        "\n",
        "Implement a function named `label_events` that meets the following requirements:\n"
      ],
      "metadata": {
        "id": "NIbQIwK2c6cQ"
      }
    },
    {
      "cell_type": "code",
      "source": [
        "def label_events(prices: pd.Series, events: pd.Series, horizon: int, threshold: float) -> pd.DataFrame:\n",
        "    \"\"\"\n",
        "    Labels events in a financial time series based on cumulative returns.\n",
        "\n",
        "    Parameters:\n",
        "    - prices (pd.Series): A pandas Series of stock prices indexed by date.\n",
        "    - events (pd.Series): A pandas Series of booleans or timestamps indicating the starting points for labeling events.\n",
        "    - horizon (int): The time horizon (window size in days) over which to compute the cumulative return.\n",
        "    - threshold (float): The threshold value (in log return terms) used to determine significant movement.\n",
        "\n",
        "    Returns:\n",
        "    - pd.DataFrame: A DataFrame containing the event timestamps, the computed cumulative return, and the assigned label.\n",
        "    \"\"\""
      ],
      "metadata": {
        "id": "eP2n4JW5eOwI"
      },
      "execution_count": null,
      "outputs": []
    },
    {
      "cell_type": "markdown",
      "source": [
        "## A"
      ],
      "metadata": {
        "id": "nAs5JIwveWZI"
      }
    },
    {
      "cell_type": "markdown",
      "source": [
        "Select **10 stock market datasets** from the dataset provided in class. Apply the **labeling algorithm**, using the **CUMSUM filter** for event detection, as demonstrated in class. Ensure that the labeled dataset is correctly structured for further analysis."
      ],
      "metadata": {
        "id": "ElOo1Kh4ehrw"
      }
    },
    {
      "cell_type": "code",
      "source": [],
      "metadata": {
        "id": "-MHGVM4Fe1xY"
      },
      "execution_count": null,
      "outputs": []
    },
    {
      "cell_type": "markdown",
      "source": [
        "## B"
      ],
      "metadata": {
        "id": "-0vH5btLe2Ry"
      }
    },
    {
      "cell_type": "markdown",
      "source": [
        "Now use random forest classifier to predict lablel."
      ],
      "metadata": {
        "id": "xcjRAfnke3oo"
      }
    },
    {
      "cell_type": "code",
      "source": [],
      "metadata": {
        "id": "YVtrwOoVfHIw"
      },
      "execution_count": null,
      "outputs": []
    },
    {
      "cell_type": "markdown",
      "source": [
        "## C"
      ],
      "metadata": {
        "id": "V-gN1KtQfHpM"
      }
    },
    {
      "cell_type": "markdown",
      "source": [
        "Compare the results of the **labeling method introduced in class** with the **one implemented here**. Assess which method performs better by defining **clear evaluation criteria** . Justify your conclusion with a **logical and reasonable evaluation** that aligns with the principles discussed in class. Avoid any obvious mistakes in the evaluation process."
      ],
      "metadata": {
        "id": "_BNqpq0nfKUA"
      }
    },
    {
      "cell_type": "code",
      "source": [],
      "metadata": {
        "id": "sXG2bH7bfm_4"
      },
      "execution_count": null,
      "outputs": []
    }
  ]
}